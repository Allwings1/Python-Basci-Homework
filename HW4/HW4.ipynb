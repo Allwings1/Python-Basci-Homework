{
 "cells": [
  {
   "cell_type": "code",
   "execution_count": 41,
   "metadata": {},
   "outputs": [
    {
     "name": "stdout",
     "output_type": "stream",
     "text": [
      "https://docs.qq.com/doc/DWkh2R2JFeE9GdmtI\n",
      "https://docs.qq.com/doc/DYUJhR2pXS3FVY3h5\n",
      "https://docs.qq.com/doc/DVnpOTGZ5dGxOdGNa\n",
      "https://docs.qq.com/doc/DTGtMVUNwWnhJUkdo\n",
      "https://docs.qq.com/doc/DWFJpYWJZVlN0YWZH\n",
      "https://docs.qq.com/doc/DSW9NWmhZWHZydGp0\n",
      "https://docs.qq.com/pdf/DWnRLc0VFdm5PdFBS\n",
      "https://docs.qq.com/doc/DZG1PaXJyeWhWSlRo\n",
      "https://docs.qq.com/doc/DQVFTd0pXdEpZU1hh\n",
      "https://docs.qq.com/pdf/DS2VaS3NITGlSdXll\n",
      "https://docs.qq.com/pdf/DWE9kcHRWeVFBZml1\n",
      "https://docs.qq.com/doc/DTlhXRXpYa2xNU1lR\n",
      "https://docs.qq.com/doc/DZUFtUHlMVGV0aGVp\n",
      "https://docs.qq.com/pdf/DR2pqUmpud0pyaGpU\n",
      "https://docs.qq.com/doc/DSGZqSk1IYkZzZVFV\n",
      "https://docs.qq.com/pdf/DYVZtU1lWRkdneUp2\n",
      "https://docs.qq.com/doc/p/d6db28e09edb9204caee4e3e3ff9e43586d7baf8?dver=2.1.27285870\n",
      "https://docs.qq.com/pdf/DQ1V2U0dOdUNISFJM\n",
      "https://docs.qq.com/doc/DUklKeW5GdEtuQ0V1\n",
      "https://kdocs.cn/l/cnfQUoNNifmI\n",
      "https://docs.qq.com/doc/DUk9ZbkhiemxkYnhN\n",
      "https://docs.qq.com/doc/DT2NsUUVSbEdyeGhp\n",
      "https://docs.qq.com/doc/DVWFXQWNVREhxbHRF\n",
      "https://docs.qq.com/doc/DS1JLRFFmdmlia09a\n",
      "https://docs.qq.com/doc/DSVdZTmptcENORE9N\n",
      "https://docs.qq.com/doc/DQkpDRGRqVllOUGlo\n",
      "https://docs.qq.com/doc/DV2thVVFUTVR4bGZk\n",
      "https://docs.qq.com/doc/DVGN5bHVqWGJYdW1t\n",
      "https://docs.qq.com/doc/DQU1aUnRKR0xZVWRv\n",
      "https://disk.pku.edu.cn:443/link/EC1DA8C16E8A4142D6D4C107FC562847\n",
      "https://docs.qq.com/doc/DVmVzcnh3VnFWRnJB\n",
      "https://docs.qq.com/pdf/DYXJPaXVzV05OV1FI\n",
      "https://docs.qq.com/doc/DTnR1TWdYeEVUd1RN\n",
      "https://docs.qq.com/doc/DUmZ5cGNnVFBQcnVN\n",
      "https://docs.qq.com/pdf/DZG9JVmJxRG5zbnFM\n",
      "https://disk.pku.edu.cn:443/link/1B3E344D07644AFA89B46ED8DADA7544\n",
      "https://docs.qq.com/doc/DZEpWQ2lzSnhIVmhC\n",
      "https://docs.qq.com/pdf/DUENPSmtMbnhTdW1U\n",
      "https://docs.qq.com/pdf/DS1hTcGdhbXBWbWtP\n",
      "https://docs.qq.com/doc/DR0lmaXJ6cmFkcklH\n",
      "https://docs.qq.com/pdf/DYlFZZ2VxYkhVR2RJ\n",
      "https://docs.qq.com/doc/DTnFyTmdja2V5Y1FL\n",
      "https://docs.qq.com/doc/DVllDcU9LTXZ4dFl0\n",
      "https://docs.qq.com/pdf/DTW1wQ0JJYkVhS3VB\n",
      "https://docs.qq.com/doc/DUnZjRVN1Zk9Sb3Vp\n",
      "https://docs.qq.com/doc/DRU9leUl3SnRMUFJH\n",
      "https://docs.qq.com/doc/DWWdXc1VpcFJMb2pN\n",
      "https://docs.qq.com/doc/DYm9xamRNRVdUYmdG\n",
      "https://docs.qq.com/pdf/DWE1lbUpycXFZYkxV\n",
      "https://docs.qq.com/doc/DWVBNS3NqdERQT1FM\n",
      "https://shimo.im/docs/dJDjG83jYrdjCthH/\n",
      "https://github.com/XinranGuo/2021_PHBS_python_programming/tree/main/HW_1\n",
      "https://docs.qq.com/doc/DQVlnb014eWNxb0Zh\n",
      "https://docs.qq.com/doc/DUER5cEpkTGJ5bG1x\n",
      "https://docs.qq.com/doc/DR1BwQWtsWVZIdVdN\n"
     ]
    }
   ],
   "source": [
    "import xlrd\n",
    "import xlwt\n",
    "import re ## download if necessary\n",
    "\n",
    "# prepare the worksheet\n",
    "workbook = xlwt.Workbook(encoding = 'ascii')\n",
    "worksheet = workbook.add_sheet('NewSheet')\n",
    "\n",
    "# download the data\n",
    "file_path = 'C:/Users/Allwings/Desktop/研究生学习/python basic/Week 5/Week 5/H1.xls'\n",
    "data = xlrd.open_workbook(file_path)\n",
    "sheet1 = data.sheet_by_index(0)\n",
    "\n",
    "rows, cols = sheet1.nrows, sheet1.ncols\n",
    "for i in range(1,rows):\n",
    "    link = sheet1.cell_value(i,cols-1)  \n",
    "    index_http = link.find(\"http\")  ## find the location of links starting with 'http'\n",
    "    if index_http == -1:   ## words with hyperlink or None \n",
    "        link = sheet1.hyperlink_map.get((i,cols-1)).url_or_path ## scratch the hyperlink\n",
    "    else:\n",
    "        link = link[index_http:]\n",
    "    print(link) ## to observe the processed data\n",
    "    worksheet.write(i-1,0, label = link)\n",
    "workbook.save('C:/Users/Allwings/Desktop/研究生学习/python basic/Week 5/Week 5/New_H1.xls') ##save the links in a new xls file\n"
   ]
  },
  {
   "cell_type": "code",
   "execution_count": null,
   "metadata": {},
   "outputs": [],
   "source": [
    "import webbrowser ## browse all the links on webpages\n",
    "\n",
    "data_open = xlrd.open_workbook('C:/Users/Allwings/Desktop/研究生学习/python basic/Week 5/Week 5/New_H1.xls')\n",
    "sheet1_open = data_open.sheet_by_index(0)\n",
    "\n",
    "rows = sheet1_open.nrows\n",
    "for i in range(0,rows):\n",
    "    webbrowser.open_new(sheet1_open.cell_value(i,0))"
   ]
  }
 ],
 "metadata": {
  "kernelspec": {
   "display_name": "Module1",
   "language": "python",
   "name": "python3"
  },
  "language_info": {
   "codemirror_mode": {
    "name": "ipython",
    "version": 3
   },
   "file_extension": ".py",
   "mimetype": "text/x-python",
   "name": "python",
   "nbconvert_exporter": "python",
   "pygments_lexer": "ipython3",
   "version": "3.12.0"
  }
 },
 "nbformat": 4,
 "nbformat_minor": 2
}
